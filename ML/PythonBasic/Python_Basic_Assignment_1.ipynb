{
 "cells": [
  {
   "cell_type": "markdown",
   "metadata": {},
   "source": [
    "<div align=\"center\"><b> This file contains the Problem Statement of Python Basics along with their solutions. </b></div>\n",
    "\n",
    "\\\n",
    "\\\n",
    "\\\n",
    "__File name__:  Python_Basic_Assignment_1 \n",
    "___\n",
    "__Author__: Arun Kumar Kushwaha\n",
    "___\n",
    "__Email__: ark9127@gmail.com\n",
    "___\n",
    "__Date created__:  05-Apr-2020\n",
    "___\n",
    "__Date last modified__: 05-Apr-2020\n",
    "___\n",
    "__Python Version__: 3.7\n",
    "___"
   ]
  },
  {
   "cell_type": "markdown",
   "metadata": {},
   "source": [
    " <hr>______________________________________________________________________________________________________________________________</hr>"
   ]
  },
  {
   "cell_type": "markdown",
   "metadata": {},
   "source": [
    "__Problem Statement 1:__\n",
    "Write a program which will find all such numbers which are divisible by 7 but are not a multiple\n",
    "of 5, between 2000 and 3200 (both included). The numbers obtained should be printed in a\n",
    "comma-separated sequence on a single line."
   ]
  },
  {
   "cell_type": "markdown",
   "metadata": {},
   "source": [
    "__Solution 1:__"
   ]
  },
  {
   "cell_type": "code",
   "execution_count": 16,
   "metadata": {},
   "outputs": [
    {
     "name": "stdout",
     "output_type": "stream",
     "text": [
      "Displaying the list of numbers which are divisible by 7 and are not a multiple of 5 between 2000 and 3200:\n",
      " \n",
      "[2002, 2009, 2016, 2023, 2037, 2044, 2051, 2058, 2072, 2079, 2086, 2093, 2107, 2114, 2121, 2128, 2142, 2149, 2156, 2163, 2177, 2184, 2191, 2198, 2212, 2219, 2226, 2233, 2247, 2254, 2261, 2268, 2282, 2289, 2296, 2303, 2317, 2324, 2331, 2338, 2352, 2359, 2366, 2373, 2387, 2394, 2401, 2408, 2422, 2429, 2436, 2443, 2457, 2464, 2471, 2478, 2492, 2499, 2506, 2513, 2527, 2534, 2541, 2548, 2562, 2569, 2576, 2583, 2597, 2604, 2611, 2618, 2632, 2639, 2646, 2653, 2667, 2674, 2681, 2688, 2702, 2709, 2716, 2723, 2737, 2744, 2751, 2758, 2772, 2779, 2786, 2793, 2807, 2814, 2821, 2828, 2842, 2849, 2856, 2863, 2877, 2884, 2891, 2898, 2912, 2919, 2926, 2933, 2947, 2954, 2961, 2968, 2982, 2989, 2996, 3003, 3017, 3024, 3031, 3038, 3052, 3059, 3066, 3073, 3087, 3094, 3101, 3108, 3122, 3129, 3136, 3143, 3157, 3164, 3171, 3178, 3192, 3199]\n"
     ]
    }
   ],
   "source": [
    "# Program to identify and display the list of numbers \n",
    "# which are divisible by 7 and are not a multiple of 5 \n",
    "# between 2000 and 3200 (including both integers)\n",
    "\n",
    "# --creating empty list to store the final list:\n",
    "finalData = []  \n",
    "\n",
    "# --creating list which stores the list of integers from 2000 to 3200 (including both integers):\n",
    "testData = list(range(2000,3201))   # --using range function to generate the list\n",
    "\n",
    "# -- creating a for loop to compute a set of instruction on each integer stored in the 'testData' list:\n",
    "for i in testData:\n",
    "    if(i%7==0 and i%5!=0):   # -- set of condition are put together to get the desired integer\n",
    "        finalData.append(i)  # -- appending the integer in an empty list which satisfy the above met condition \n",
    "        \n",
    "\n",
    "print(\"Displaying the list of numbers which are divisible by 7 and are not a multiple of 5 between 2000 and 3200:\\n \")       \n",
    "print(finalData)"
   ]
  },
  {
   "cell_type": "markdown",
   "metadata": {},
   "source": [
    " <hr>______________________________________________________________________________________________________________________________</hr>"
   ]
  },
  {
   "cell_type": "markdown",
   "metadata": {},
   "source": [
    "__Problem Statement 2:__\n",
    "Write a Python program to accept the user's first and last name and then getting them printed in\n",
    "the the reverse order with a space between first name and last name."
   ]
  },
  {
   "cell_type": "markdown",
   "metadata": {},
   "source": [
    "__Solution 2:__"
   ]
  },
  {
   "cell_type": "code",
   "execution_count": 50,
   "metadata": {},
   "outputs": [
    {
     "name": "stdout",
     "output_type": "stream",
     "text": [
      "Please enter your first name: Arun\n",
      "Please enter your last name: Kumar\n",
      "\n",
      "Hi Arun!, Displaying your name in reverse order: Kumar Arun\n",
      "\n",
      "Hi Arun!, Displaying your name in reverse order using hard coding: Kumar Arun\n",
      "\n",
      "Hi Arun!, Displaying your first and last name in reverse order:  nurA ramuK\n",
      "\n",
      "Hi Arun!, Displaying your first and last name in fully reverse order:  ramuK nurA\n"
     ]
    }
   ],
   "source": [
    "# Program to print the user's first name and last name together in a reverse order \n",
    "# for e.g. FirstName and Last Name of user will be displayed as <LastName><Space><FirstName>\n",
    "\n",
    "firstName = input(\"Please enter your first name: \")  # --variable to store the first name from user\n",
    "lastName = input(\"Please enter your last name: \")   # --variable to store the second name from user\n",
    "\n",
    "print(\"\\nHi \" + firstName+ \"!, Displaying your name in reverse order:\", lastName,firstName)\n",
    "\n",
    "print(\"\\nHi \" + firstName+ \"!, Displaying your name in reverse order using hard coding: \" + lastName + \" \" + firstName)\n",
    "\n",
    "print(\"\\nHi \" + firstName+ \"!, Displaying your first and last name in reverse order: \", firstName[::-1] , lastName[::-1])\n",
    "\n",
    "print(\"\\nHi \" + firstName+ \"!, Displaying your first and last name in fully reverse order: \", lastName[::-1] , firstName[::-1])"
   ]
  },
  {
   "cell_type": "markdown",
   "metadata": {},
   "source": [
    "__Comment:__ There might be more permutation and computation for the reversal order. I was not sure of the right reverse order, therefore printed them in 4 ways. "
   ]
  },
  {
   "cell_type": "markdown",
   "metadata": {},
   "source": [
    " <hr>______________________________________________________________________________________________________________________________</hr>"
   ]
  },
  {
   "cell_type": "markdown",
   "metadata": {},
   "source": [
    "__Problem Statement 3:__\n",
    "Write a Python program to find the volume of a sphere with diameter 12 cm.\n",
    "Formula: V=4/3 * π * r 3"
   ]
  },
  {
   "cell_type": "markdown",
   "metadata": {},
   "source": [
    "__Solution 3:__"
   ]
  },
  {
   "cell_type": "code",
   "execution_count": 17,
   "metadata": {},
   "outputs": [
    {
     "name": "stdout",
     "output_type": "stream",
     "text": [
      "The Volume of a sphere with a diameter of 12 cm is 904.7786842338603 cm ^ 3\n"
     ]
    }
   ],
   "source": [
    "# Program to find the volume of a sphere with diameter 12 cm\n",
    "# Formula: Volume of a Sphere : V=4/3 * π * r 3\n",
    "\n",
    "# --importing Math library and storing the value of pie in a variable:\n",
    "import math\n",
    "\n",
    "pi = math.pi\n",
    "\n",
    "\n",
    "# --Calculating radius when the diameter is given:\n",
    "dia = 12\n",
    "rad = dia/2\n",
    "\n",
    "\n",
    "# --calculating the Volume of a sphere as per the formula:\n",
    "sphereVol = 4/3 * pi * (rad**3)\n",
    "\n",
    "\n",
    "print(\"The Volume of a sphere with a diameter of\", dia, \"cm is\", sphereVol, \"cm ^ 3\")\n"
   ]
  },
  {
   "cell_type": "markdown",
   "metadata": {},
   "source": [
    " <hr>______________________________________________________________________________________________________________________________</hr>"
   ]
  },
  {
   "cell_type": "markdown",
   "metadata": {},
   "source": [
    "__Problem Statement 4:__\n",
    "Write a program which accepts a sequence of comma-separated numbers from console and generate a list."
   ]
  },
  {
   "cell_type": "markdown",
   "metadata": {},
   "source": [
    "__Solution 4:__"
   ]
  },
  {
   "cell_type": "code",
   "execution_count": 19,
   "metadata": {},
   "outputs": [
    {
     "name": "stdout",
     "output_type": "stream",
     "text": [
      "Request you to enter the sequence of comma-separated numbers:14,35,101,264,987,1034\n",
      "\n",
      "Displaying a sequence of comma-separated string as a list: ['14', '35', '101', '264', '987', '1034']\n",
      "Displaying a sequence of comma-separated integers as a list: [14, 35, 101, 264, 987, 1034]\n"
     ]
    }
   ],
   "source": [
    "# program which accepts a sequence of comma-separated numbers from console and generate a list\n",
    "\n",
    "\n",
    "int_userList = []    # --creating an empty List to store the comma-separated numbers as a list\n",
    "\n",
    "# --variable to store the sequence of comma-separated numbers given as an input by user:\n",
    "csn = input(\"Request you to enter the sequence of comma-separated numbers:\")\n",
    "\n",
    "# --Note: The numbers entered by the users, stored in csn variable, with string datatype\n",
    "# --using split function to split the numbers or string separated by comma\n",
    "# --These seperated numbers are of string datatype and will be stored as list\n",
    "\n",
    "str_userList = csn.split(sep = \",\")  # --splitting the string \n",
    "\n",
    "print(\"\\nDisplaying a sequence of comma-separated string as a list:\",str_userList)\n",
    "\n",
    "\n",
    "# --using type casting on string to convert it in to an integer with the help of for loop\n",
    "for i in str_userList:\n",
    "    int_userList.append(int(i))\n",
    "    \n",
    "\n",
    "print(\"Displaying a sequence of comma-separated integers as a list:\",int_userList)\n"
   ]
  },
  {
   "cell_type": "markdown",
   "metadata": {},
   "source": [
    " <hr>______________________________________________________________________________________________________________________________</hr>"
   ]
  },
  {
   "cell_type": "markdown",
   "metadata": {},
   "source": [
    "__Problem Statement 5:__\n",
    "Create the below pattern using nested for loop in Python.\n",
    "    *\n",
    "    * *\n",
    "    * * *\n",
    "    * * * *\n",
    "    * * * * *\n",
    "    * * * *\n",
    "    * * *\n",
    "    * *"
   ]
  },
  {
   "cell_type": "markdown",
   "metadata": {},
   "source": [
    "__Solution 5:__"
   ]
  },
  {
   "cell_type": "code",
   "execution_count": 21,
   "metadata": {},
   "outputs": [
    {
     "name": "stdout",
     "output_type": "stream",
     "text": [
      " * *\n",
      " * * *\n",
      " * * * *\n",
      " * * * * *\n",
      " * * * *\n",
      " * * *\n",
      " * *\n"
     ]
    }
   ],
   "source": [
    "# Program to print a pattern using nested loop\n",
    "\n",
    "# here in the pattern,\n",
    "# no.of rows are equal to 7, and\n",
    "# no. of columns are equal to 5\n",
    "\n",
    "row = range(0,7)    # --storing no. of rows index in a row variable\n",
    "col = range(0,5)    # --storing no. of columns index in a col variable\n",
    "n = 0               # --variable to control the no. of asterik(*) in each row\n",
    "\n",
    "\n",
    "# -- Preparing for nested loop to print \"*\" by controlling the row, col indexes\n",
    "\n",
    "for i in row:            # --first for loop to control row index\n",
    "    s = \"\"               # --creating an empty string variable which will capture all the \"*\" row-wise\n",
    "    \n",
    "    if (i<4):            # --if condition to control or limit the count of \"*\" to be displayed in each line\n",
    "        n = n + 1        # --first four rows has increase in the count of \"*\" by 1 \n",
    "    else:\n",
    "        n = n - 1        # --last three rows has decrease in the count of \"*\" by 1\n",
    "    \n",
    "    for j in col:        # --second for loop to control col index\n",
    "        if (j<=n):       # --if condition to control the \"*\" column-wise\n",
    "            s = s + \" *\"       # --storing the \"*\" as string in the s variable\n",
    "        \n",
    "    s = s.replace(\"\\n\", \"\")    # --replacing new/break line to blank\n",
    "    print(s)\n"
   ]
  },
  {
   "cell_type": "markdown",
   "metadata": {},
   "source": [
    " <hr>______________________________________________________________________________________________________________________________</hr>"
   ]
  },
  {
   "cell_type": "markdown",
   "metadata": {},
   "source": [
    "__Problem Statement 6:__\n",
    "Write a Python program to reverse a word after accepting the input from the user.\n",
    "\n",
    "Sample Output:\n",
    "\n",
    "* Input word: Ineuron\n",
    "* Output: noruenI"
   ]
  },
  {
   "cell_type": "markdown",
   "metadata": {},
   "source": [
    "__Solution 6:__"
   ]
  },
  {
   "cell_type": "code",
   "execution_count": 22,
   "metadata": {},
   "outputs": [
    {
     "name": "stdout",
     "output_type": "stream",
     "text": [
      "Please enter a word: Ineuoron\n",
      "Displaying a given word in reverse order:  norouenI\n"
     ]
    }
   ],
   "source": [
    "# Program to reverse a word after accepting the input from the user\n",
    "\n",
    "\n",
    "inWord = input(\"Please enter a word: \")   # --variable to store a word from user\n",
    "\n",
    "print(\"Displaying a given word in reverse order: \", inWord[::-1])"
   ]
  },
  {
   "cell_type": "markdown",
   "metadata": {},
   "source": [
    " <hr>______________________________________________________________________________________________________________________________</hr>"
   ]
  },
  {
   "cell_type": "markdown",
   "metadata": {},
   "source": [
    "__Problem Statement 7:__\n",
    "Write a Python Program to print the given string in the format specified in the sample output.\n",
    "\n",
    "WE, THE PEOPLE OF INDIA, having solemnly resolved to constitute India into a\n",
    "SOVEREIGN, SOCIALIST, SECULAR, DEMOCRATIC REPUBLIC and to secure to all\n",
    "its citizens\n",
    "\n",
    "Sample Output:\n",
    "\n",
    "WE, THE PEOPLE OF INDIA,\n",
    "<div align=\"center\">having solemnly resolved to constitute India into a SOVEREIGN, !</div>\n",
    "<div align=\"center\">SOCIALIST, SECULAR, DEMOCRATIC REPUBLIC</div>\n",
    "<div align=\"center\">and to secure to all its citizens</div>"
   ]
  },
  {
   "cell_type": "markdown",
   "metadata": {},
   "source": [
    "__Solution 7:__"
   ]
  },
  {
   "cell_type": "markdown",
   "metadata": {},
   "source": [
    "WE, THE PEOPLE OF INDIA,\n",
    "<div align=\"center\">having solemnly resolved to constitute India into a SOVEREIGN, !</div>\n",
    "<div align=\"center\">SOCIALIST, SECULAR, DEMOCRATIC REPUBLIC</div>\n",
    "<div align=\"center\">and to secure to all its citizens</div>"
   ]
  },
  {
   "cell_type": "markdown",
   "metadata": {},
   "source": [
    "__Comment:__ \n",
    "1. i had used to html code to align the string to the center.\n",
    "2. Extra \"!\" was added in the sample output, therefore i also added it in the solution. but in the original string \"!\" is not there."
   ]
  },
  {
   "cell_type": "markdown",
   "metadata": {},
   "source": [
    " <hr>______________________________________________________________________________________________________________________________</hr>"
   ]
  }
 ],
 "metadata": {
  "kernelspec": {
   "display_name": "Python 3",
   "language": "python",
   "name": "python3"
  },
  "language_info": {
   "codemirror_mode": {
    "name": "ipython",
    "version": 3
   },
   "file_extension": ".py",
   "mimetype": "text/x-python",
   "name": "python",
   "nbconvert_exporter": "python",
   "pygments_lexer": "ipython3",
   "version": "3.7.3"
  }
 },
 "nbformat": 4,
 "nbformat_minor": 2
}
