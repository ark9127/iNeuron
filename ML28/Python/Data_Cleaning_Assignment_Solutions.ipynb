{
 "cells": [
  {
   "cell_type": "markdown",
   "metadata": {},
   "source": [
    "## <div align=\"center\"><b> This file contains the Problem Statement of Data Cleaning Assignment along with their solutions using Pandas library. </b></div>\n",
    "\n",
    "\\\n",
    "\\\n",
    "\\\n",
    "__File name__:  Data_Cleaning_Assignment_Solutions\n",
    "___\n",
    "__Author__: Arun Kumar Kushwaha\n",
    "___\n",
    "__Email__: ark9127@gmail.com\n",
    "___\n",
    "__Date created__:  02-May-2020\n",
    "___\n",
    "__Date last modified__: 03-May-2020\n",
    "___\n",
    "__Python Version__: 3.7\n",
    "___"
   ]
  },
  {
   "cell_type": "markdown",
   "metadata": {},
   "source": [
    " <hr>______________________________________________________________________________________________________________________________</hr>"
   ]
  },
  {
   "cell_type": "markdown",
   "metadata": {},
   "source": [
    "__Introduction:__ This assignment will help you to consolidate the concepts learnt in the session."
   ]
  },
  {
   "cell_type": "markdown",
   "metadata": {},
   "source": [
    "__Problem Statement:__\n",
    "It happens all the time: someone gives you data containing malformed strings, Python, lists and missing data. How do you tidy it up so you can get on with the analysis?\n",
    "\n",
    "Take this monstrosity as the DataFrame to use in the following puzzles:\n",
    "\n",
    "df = pd.DataFrame({'From_To': ['LoNDon_paris', 'MAdrid_miLAN', 'londON_StockhOlm', 'Budapest_PaRis', 'Brussels_londOn'],\n",
    "\n",
    "                'FlightNumber': [10045, np.nan, 10065, np.nan, 10085],\n",
    "\n",
    "                'RecentDelays': [[23, 47], [], [24, 43, 87], [13], [67, 32]],\n",
    "\n",
    "                'Airline': ['KLM(!)', '<Air France> (12)', '(British Airways. )', '12. Air France', '\"Swiss Air\"']})"
   ]
  },
  {
   "cell_type": "code",
   "execution_count": 51,
   "metadata": {},
   "outputs": [
    {
     "data": {
      "text/html": [
       "<div>\n",
       "<style scoped>\n",
       "    .dataframe tbody tr th:only-of-type {\n",
       "        vertical-align: middle;\n",
       "    }\n",
       "\n",
       "    .dataframe tbody tr th {\n",
       "        vertical-align: top;\n",
       "    }\n",
       "\n",
       "    .dataframe thead th {\n",
       "        text-align: right;\n",
       "    }\n",
       "</style>\n",
       "<table border=\"1\" class=\"dataframe\">\n",
       "  <thead>\n",
       "    <tr style=\"text-align: right;\">\n",
       "      <th></th>\n",
       "      <th>From_To</th>\n",
       "      <th>FlightNumber</th>\n",
       "      <th>RecentDelays</th>\n",
       "      <th>Airline</th>\n",
       "    </tr>\n",
       "  </thead>\n",
       "  <tbody>\n",
       "    <tr>\n",
       "      <th>0</th>\n",
       "      <td>LoNDon_paris</td>\n",
       "      <td>10045.0</td>\n",
       "      <td>[23, 47]</td>\n",
       "      <td>KLM(!)</td>\n",
       "    </tr>\n",
       "    <tr>\n",
       "      <th>1</th>\n",
       "      <td>MAdrid_miLAN</td>\n",
       "      <td>NaN</td>\n",
       "      <td>[]</td>\n",
       "      <td>&lt;Air France&gt; (12)</td>\n",
       "    </tr>\n",
       "    <tr>\n",
       "      <th>2</th>\n",
       "      <td>londON_StockhOlm</td>\n",
       "      <td>10065.0</td>\n",
       "      <td>[24, 43, 87]</td>\n",
       "      <td>(British Airways. )</td>\n",
       "    </tr>\n",
       "    <tr>\n",
       "      <th>3</th>\n",
       "      <td>Budapest_PaRis</td>\n",
       "      <td>NaN</td>\n",
       "      <td>[13]</td>\n",
       "      <td>12. Air France</td>\n",
       "    </tr>\n",
       "    <tr>\n",
       "      <th>4</th>\n",
       "      <td>Brussels_londOn</td>\n",
       "      <td>10085.0</td>\n",
       "      <td>[67, 32]</td>\n",
       "      <td>\"Swiss Air\"</td>\n",
       "    </tr>\n",
       "  </tbody>\n",
       "</table>\n",
       "</div>"
      ],
      "text/plain": [
       "            From_To  FlightNumber  RecentDelays              Airline\n",
       "0      LoNDon_paris       10045.0      [23, 47]               KLM(!)\n",
       "1      MAdrid_miLAN           NaN            []    <Air France> (12)\n",
       "2  londON_StockhOlm       10065.0  [24, 43, 87]  (British Airways. )\n",
       "3    Budapest_PaRis           NaN          [13]       12. Air France\n",
       "4   Brussels_londOn       10085.0      [67, 32]          \"Swiss Air\""
      ]
     },
     "execution_count": 51,
     "metadata": {},
     "output_type": "execute_result"
    }
   ],
   "source": [
    "# Importing panda and numpy libraries to perform a set of operation on dataframe\n",
    "\n",
    "import numpy as np\n",
    "import pandas as pd\n",
    "\n",
    "\n",
    "# --creating dataframe as given in the above problem statement:\n",
    "\n",
    "df = pd.DataFrame({'From_To': ['LoNDon_paris', 'MAdrid_miLAN', 'londON_StockhOlm', 'Budapest_PaRis', 'Brussels_londOn'],\n",
    "\n",
    "            'FlightNumber': [10045, np.nan, 10065, np.nan, 10085],\n",
    "\n",
    "            'RecentDelays': [[23, 47], [], [24, 43, 87], [13], [67, 32]],\n",
    "\n",
    "            'Airline': ['KLM(!)', '<Air France> (12)', '(British Airways. )', '12. Air France', '\"Swiss Air\"']})\n",
    "\n",
    "\n",
    "# --diplaying the dataframe stored in df variable\n",
    "\n",
    "df\n"
   ]
  },
  {
   "cell_type": "markdown",
   "metadata": {},
   "source": [
    "__Obervations:__\n",
    "1. From_To column: contains the name of flight boarding city and flight landing city, concatenated together with \"_\" character\n",
    "2. From_To column: casing is not proper that either in upper case or lower case or camel case\n",
    "3. FlightNumber: two rows contain \"NaN\" value i.e. at index of 1 and 3\n",
    "4. RecentDelays: not sure what kind of data it is. Its Data Type look like a list which contains integer number.\n",
    "5. RecentDelays: At index 1, list is blank\n",
    "6. Airline: contains the airline name. Few of them have numerical figure, need to further analyse its importance or its just a junk data concatentenated with the airline name"
   ]
  },
  {
   "cell_type": "markdown",
   "metadata": {},
   "source": [
    " <hr>______________________________________________________________________________________________________________________________</hr>"
   ]
  },
  {
   "cell_type": "markdown",
   "metadata": {},
   "source": [
    "__Query 1:__\n",
    "Some values in the the FlightNumber column are missing. These numbers are meant to increase by 10 with each row so 10055 and 10075 need to be put in place. Fill in these missing numbers and make the column an integer column (instead of a float column)."
   ]
  },
  {
   "cell_type": "markdown",
   "metadata": {},
   "source": [
    "__Solution 1:__"
   ]
  },
  {
   "cell_type": "code",
   "execution_count": 53,
   "metadata": {},
   "outputs": [
    {
     "name": "stdout",
     "output_type": "stream",
     "text": [
      "The old data type of Flight Number was:  float64\n",
      "\n",
      "The updated data type of Flight Number is:  int32\n",
      "\n",
      "Find below the updated missing Flight Number:\n",
      "---------------------------------------------\n",
      "   FlightNumber\n",
      "0         10045\n",
      "1         10055\n",
      "2         10065\n",
      "3         10075\n",
      "4         10085\n"
     ]
    }
   ],
   "source": [
    "# Program to fill the missing numbers in the Flight Column and make the column an integer column\n",
    "\n",
    "\n",
    "# --for to loop to iterated through each item of Flight Numer column\n",
    "for i in range(0,len(df['FlightNumber'])):\n",
    "    if pd.isna(df.loc[i,'FlightNumber']):          # --condition to identify the NaN in Flight Number column\n",
    "        df.loc[i,'FlightNumber'] = df.loc[i-1,'FlightNumber'] + 10.0   # --updating the NaN value after adding 10 in the previous row number\n",
    "\n",
    "\n",
    "# --checking the current data type of Flight Number column\n",
    "print(\"The old data type of Flight Number was: \",df['FlightNumber'].dtype)\n",
    "\n",
    "\n",
    "# --updating the data type of Flight Number Column to Integer\n",
    "df['FlightNumber'] = df['FlightNumber'].astype(int)\n",
    "\n",
    "\n",
    "print(\"\\nThe updated data type of Flight Number is: \", df['FlightNumber'].dtype)\n",
    "\n",
    "print(\"\\nFind below the updated missing Flight Number:\\n\", '-' * 45, sep='')\n",
    "\n",
    "print(df[['FlightNumber']])\n"
   ]
  },
  {
   "cell_type": "markdown",
   "metadata": {},
   "source": [
    "__Comment:__ Below is the second method which i was trying to implement, but not sure why the addition done in the RHS are not copying to the LHS"
   ]
  },
  {
   "cell_type": "code",
   "execution_count": 52,
   "metadata": {},
   "outputs": [
    {
     "data": {
      "text/html": [
       "<div>\n",
       "<style scoped>\n",
       "    .dataframe tbody tr th:only-of-type {\n",
       "        vertical-align: middle;\n",
       "    }\n",
       "\n",
       "    .dataframe tbody tr th {\n",
       "        vertical-align: top;\n",
       "    }\n",
       "\n",
       "    .dataframe thead th {\n",
       "        text-align: right;\n",
       "    }\n",
       "</style>\n",
       "<table border=\"1\" class=\"dataframe\">\n",
       "  <thead>\n",
       "    <tr style=\"text-align: right;\">\n",
       "      <th></th>\n",
       "      <th>FlightNumber</th>\n",
       "    </tr>\n",
       "  </thead>\n",
       "  <tbody>\n",
       "    <tr>\n",
       "      <th>0</th>\n",
       "      <td>10045.0</td>\n",
       "    </tr>\n",
       "    <tr>\n",
       "      <th>1</th>\n",
       "      <td>NaN</td>\n",
       "    </tr>\n",
       "    <tr>\n",
       "      <th>2</th>\n",
       "      <td>10065.0</td>\n",
       "    </tr>\n",
       "    <tr>\n",
       "      <th>3</th>\n",
       "      <td>NaN</td>\n",
       "    </tr>\n",
       "    <tr>\n",
       "      <th>4</th>\n",
       "      <td>10085.0</td>\n",
       "    </tr>\n",
       "  </tbody>\n",
       "</table>\n",
       "</div>"
      ],
      "text/plain": [
       "   FlightNumber\n",
       "0       10045.0\n",
       "1           NaN\n",
       "2       10065.0\n",
       "3           NaN\n",
       "4       10085.0"
      ]
     },
     "execution_count": 52,
     "metadata": {},
     "output_type": "execute_result"
    }
   ],
   "source": [
    "# Program to fill the missing numbers in the Flight Column and make the column an integer column\n",
    "\n",
    "\n",
    "# --LHS-> is to locate the NaN in Flight Number column\n",
    "# --RHS-> is to add 10 to the previous FLight Number\n",
    "# --LHS=RHS-> to store the sum in LHS and replace NaN value\n",
    "df.loc[df['FlightNumber'].isna(),'FlightNumber'] = df.loc[df[df['FlightNumber'].isna()].index - 1 , 'FlightNumber'] + 10\n",
    "\n",
    "df[['FlightNumber']]\n"
   ]
  },
  {
   "cell_type": "markdown",
   "metadata": {},
   "source": [
    " <hr>______________________________________________________________________________________________________________________________</hr>"
   ]
  },
  {
   "cell_type": "markdown",
   "metadata": {},
   "source": [
    "__Query 2:__\n",
    "The From_To column would be better as two separate columns! Split each string on the underscore delimiter _ to give a new temporary DataFrame with the correct values. Assign the correct column names to this temporary DataFrame."
   ]
  },
  {
   "cell_type": "markdown",
   "metadata": {},
   "source": [
    "__Solution 2:__"
   ]
  },
  {
   "cell_type": "code",
   "execution_count": 54,
   "metadata": {},
   "outputs": [
    {
     "name": "stdout",
     "output_type": "stream",
     "text": [
      "From and To Cities are displayed below in two seperate columns :\n",
      "----------------------------------------------------------------\n",
      "  City_From    City_To\n",
      "0    LoNDon      paris\n",
      "1    MAdrid      miLAN\n",
      "2    londON  StockhOlm\n",
      "3  Budapest      PaRis\n",
      "4  Brussels     londOn\n"
     ]
    }
   ],
   "source": [
    "# Program to split the \"From_To\" column in to two columns and save it in the temporary Dataframe\n",
    "\n",
    "# --creating a temporary dataframe to store \"From_To\" column\n",
    "# --using copy function os that the changes made in temporary dataframe should not be reflected in the original dataframe\n",
    "\n",
    "df_temp = df[['From_To']].copy()\n",
    "\n",
    "# --splitting the each string from each row available in \"From_To\" column on underscore delimiter\n",
    "# --creating two columns in temporary dataframe and storing the new values in to them\n",
    "\n",
    "df_temp[['City_From','City_To']] = df_temp['From_To'].str.split('_', expand = True)\n",
    "\n",
    "# --dropping the \"From_To\" column, on which the split operation was performed, as it is not required anymore\n",
    "# --inplace = True -> to make the changes permanent\n",
    "# --axis = 1 -> to drop the element column-wise\n",
    "\n",
    "df_temp.drop('From_To', inplace = True, axis = 1)    \n",
    "\n",
    "print(\"From and To Cities are displayed below in two seperate columns :\\n\", \"-\" * 64, sep = '')\n",
    "\n",
    "print(df_temp)\n"
   ]
  },
  {
   "cell_type": "markdown",
   "metadata": {},
   "source": [
    " <hr>______________________________________________________________________________________________________________________________</hr>"
   ]
  },
  {
   "cell_type": "markdown",
   "metadata": {},
   "source": [
    "__Query 3:__\n",
    "Notice how the capitalisation of the city names is all mixed up in this temporary DataFrame. Standardise the strings so that only the first letter is uppercase (e.g. \"londON\" should become \"London\".)"
   ]
  },
  {
   "cell_type": "markdown",
   "metadata": {},
   "source": [
    "__Solution 3:__"
   ]
  },
  {
   "cell_type": "code",
   "execution_count": 55,
   "metadata": {},
   "outputs": [
    {
     "name": "stdout",
     "output_type": "stream",
     "text": [
      "Displaying the strings in first letter capital format :\n",
      "-------------------------------------------------------\n",
      "  City_From    City_To\n",
      "0    London      Paris\n",
      "1    Madrid      Milan\n",
      "2    London  Stockholm\n",
      "3  Budapest      Paris\n",
      "4  Brussels     London\n"
     ]
    }
   ],
   "source": [
    "# Program to Standardise the strings so that only the first letter is uppercase\n",
    "# (e.g. \"londON\" should become \"London\".)\n",
    "\n",
    "\n",
    "df_temp['City_From'] = df_temp['City_From'].str.capitalize()\n",
    "df_temp['City_To'] = df_temp['City_To'].str.capitalize()\n",
    "\n",
    "print(\"Displaying the strings in first letter capital format :\\n\", \"-\" * 55, sep = '')\n",
    "\n",
    "print(df_temp)\n"
   ]
  },
  {
   "cell_type": "markdown",
   "metadata": {},
   "source": [
    " <hr>______________________________________________________________________________________________________________________________</hr>"
   ]
  },
  {
   "cell_type": "markdown",
   "metadata": {},
   "source": [
    "__Query 4:__\n",
    "Delete the From_To column from df and attach the temporary DataFrame from the previous questions."
   ]
  },
  {
   "cell_type": "markdown",
   "metadata": {},
   "source": [
    "__Solution 4:__"
   ]
  },
  {
   "cell_type": "code",
   "execution_count": 56,
   "metadata": {},
   "outputs": [
    {
     "name": "stdout",
     "output_type": "stream",
     "text": [
      "Displaying the updated columns in the original dataframe after removing \"From_to\" column :\n",
      "------------------------------------------------------------------------------------------\n",
      "   FlightNumber  RecentDelays              Airline City_From    City_To\n",
      "0         10045      [23, 47]               KLM(!)    London      Paris\n",
      "1         10055            []    <Air France> (12)    Madrid      Milan\n",
      "2         10065  [24, 43, 87]  (British Airways. )    London  Stockholm\n",
      "3         10075          [13]       12. Air France  Budapest      Paris\n",
      "4         10085      [67, 32]          \"Swiss Air\"  Brussels     London\n"
     ]
    }
   ],
   "source": [
    "# Program to Delete the From_To column from df and attach the temporary DataFrame to df\n",
    "\n",
    "\n",
    "# --dropping the \"From_To\" column, on which the split operation was performed, as it is not required anymore\n",
    "# --inplace = True -> to make the changes permanent\n",
    "# --axis = 1 -> to drop the element column-wise\n",
    "\n",
    "df.drop('From_To', inplace = True, axis = 1) \n",
    "\n",
    "\n",
    "# --concatenating the temporary dataframe to original dataframe i.e. df\n",
    "\n",
    "df = pd.concat([df,df_temp], axis = 1)\n",
    "\n",
    "\n",
    "print('Displaying the updated columns in the original dataframe after removing \"From_to\" column :\\n', \"-\" * 90, sep = '')\n",
    "\n",
    "print(df)\n"
   ]
  },
  {
   "cell_type": "markdown",
   "metadata": {},
   "source": [
    " <hr>______________________________________________________________________________________________________________________________</hr>"
   ]
  },
  {
   "cell_type": "markdown",
   "metadata": {},
   "source": [
    "__Query 5:__\n",
    "In the RecentDelays column, the values have been entered into the DataFrame as a list. We would like each first value in its own column, each second value in its own column, and so on. If there isn't an Nth value, the value should be NaN.\n",
    "\n",
    "Expand the Series of lists into a DataFrame named delays, rename the columns delay_1, delay_2, etc. and replace the unwanted RecentDelays column in df with delays."
   ]
  },
  {
   "cell_type": "markdown",
   "metadata": {},
   "source": [
    "__Solution 5:__"
   ]
  },
  {
   "cell_type": "code",
   "execution_count": 57,
   "metadata": {},
   "outputs": [
    {
     "name": "stdout",
     "output_type": "stream",
     "text": [
      "Displaying the \"delays\" dataframe after splitting the RecentDelays column:\n",
      "--------------------------------------------------------------------------\n",
      "      0     1     2\n",
      "0  23.0  47.0   NaN\n",
      "1   NaN   NaN   NaN\n",
      "2  24.0  43.0  87.0\n",
      "3  13.0   NaN   NaN\n",
      "4  67.0  32.0   NaN\n",
      "\n",
      "Displaying the \"delays\" dataframe after updating the column names:\n",
      "------------------------------------------------------------------\n",
      "   delay_1  delay_2  delay_3\n",
      "0     23.0     47.0      NaN\n",
      "1      NaN      NaN      NaN\n",
      "2     24.0     43.0     87.0\n",
      "3     13.0      NaN      NaN\n",
      "4     67.0     32.0      NaN\n",
      "\n",
      "Displaying the \"df\" dataframe after joining \"delays\" dataframe:\n",
      "----------------------------------------------------------------\n",
      "   FlightNumber  RecentDelays              Airline City_From    City_To  \\\n",
      "0         10045      [23, 47]               KLM(!)    London      Paris   \n",
      "1         10055            []    <Air France> (12)    Madrid      Milan   \n",
      "2         10065  [24, 43, 87]  (British Airways. )    London  Stockholm   \n",
      "3         10075          [13]       12. Air France  Budapest      Paris   \n",
      "4         10085      [67, 32]          \"Swiss Air\"  Brussels     London   \n",
      "\n",
      "   delay_1  delay_2  delay_3  \n",
      "0     23.0     47.0      NaN  \n",
      "1      NaN      NaN      NaN  \n",
      "2     24.0     43.0     87.0  \n",
      "3     13.0      NaN      NaN  \n",
      "4     67.0     32.0      NaN  \n",
      "\n",
      "Displaying the \"df\" dataframe after removing \"RecentDelays\" column:\n",
      "-------------------------------------------------------------------\n",
      "   FlightNumber              Airline City_From    City_To  delay_1  delay_2  \\\n",
      "0         10045               KLM(!)    London      Paris     23.0     47.0   \n",
      "1         10055    <Air France> (12)    Madrid      Milan      NaN      NaN   \n",
      "2         10065  (British Airways. )    London  Stockholm     24.0     43.0   \n",
      "3         10075       12. Air France  Budapest      Paris     13.0      NaN   \n",
      "4         10085          \"Swiss Air\"  Brussels     London     67.0     32.0   \n",
      "\n",
      "   delay_3  \n",
      "0      NaN  \n",
      "1      NaN  \n",
      "2     87.0  \n",
      "3      NaN  \n",
      "4      NaN  \n"
     ]
    }
   ],
   "source": [
    "# Program to split the list of 'RecentDelays' column and create its own column\n",
    "# dropping the 'RecentDelays' column\n",
    "\n",
    "\n",
    "# --using pd.series to break all the elements available in a list and same time assigned the index.\n",
    "# --where ever the element is not available, by default the value is populated with Nan\n",
    "# --using apply function to implement pd.series on each element (here list in each row) of 'RecentDelays' column\n",
    "# --storing the result in delays dataframe\n",
    "\n",
    "delays = df['RecentDelays'].apply(pd.Series)\n",
    "\n",
    "print('Displaying the \"delays\" dataframe after splitting the RecentDelays column:\\n', \"-\" * 74, sep = '')\n",
    "\n",
    "print(delays)\n",
    "\n",
    "\n",
    "# --renaming the columns of delays dataframe\n",
    "\n",
    "delays = delays.rename(columns = lambda x : 'delay_' + str(x+1))\n",
    "\n",
    "print('\\nDisplaying the \"delays\" dataframe after updating the column names:\\n', \"-\" * 66, sep = '')\n",
    "\n",
    "print(delays)\n",
    "\n",
    "\n",
    "# --joining the delays dataframe with the original dataframe i.e. df\n",
    "\n",
    "df = df.join(delays)\n",
    "\n",
    "print('\\nDisplaying the \"df\" dataframe after joining \"delays\" dataframe:\\n', \"-\" * 64, sep = '')\n",
    "\n",
    "print(df)\n",
    "\n",
    "\n",
    "\n",
    "# --droping the 'RecentDelays'  column from \"df\" dataframe\n",
    "\n",
    "df = df.drop('RecentDelays', axis = 1)\n",
    "\n",
    "print('\\nDisplaying the \"df\" dataframe after removing \"RecentDelays\" column:\\n', \"-\" * 67, sep = '')\n",
    "\n",
    "print(df)\n"
   ]
  },
  {
   "cell_type": "markdown",
   "metadata": {},
   "source": [
    " <hr>______________________________________________________________________________________________________________________________</hr>"
   ]
  }
 ],
 "metadata": {
  "kernelspec": {
   "display_name": "Python 3",
   "language": "python",
   "name": "python3"
  },
  "language_info": {
   "codemirror_mode": {
    "name": "ipython",
    "version": 3
   },
   "file_extension": ".py",
   "mimetype": "text/x-python",
   "name": "python",
   "nbconvert_exporter": "python",
   "pygments_lexer": "ipython3",
   "version": "3.7.6"
  }
 },
 "nbformat": 4,
 "nbformat_minor": 2
}
