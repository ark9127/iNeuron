{
 "cells": [
  {
   "cell_type": "markdown",
   "metadata": {},
   "source": [
    "<div align=\"center\"><b> This file contains the Problem Statement of Python Assigment 2 along with their solutions. </b></div>\n",
    "\n",
    "\\\n",
    "\\\n",
    "\\\n",
    "__File name__:  Python_Assignment_2_Solutions \n",
    "___\n",
    "__Author__: Arun Kumar Kushwaha\n",
    "___\n",
    "__Email__: ark9127@gmail.com\n",
    "___\n",
    "__Date created__:  10-Apr-2020\n",
    "___\n",
    "__Date last modified__: 10-Apr-2020\n",
    "___\n",
    "__Python Version__: 3.7\n",
    "___"
   ]
  },
  {
   "cell_type": "markdown",
   "metadata": {},
   "source": [
    " <hr>______________________________________________________________________________________________________________________________</hr>"
   ]
  },
  {
   "cell_type": "markdown",
   "metadata": {},
   "source": [
    "__Problem Statement 1:__\n",
    "Create the below pattern using nested for loop in Python.\n",
    "    \n",
    "    *\n",
    "    * *\n",
    "    * * *\n",
    "    * * * *\n",
    "    * * * * *\n",
    "    * * * *\n",
    "    * * *\n",
    "    * *\n",
    "    *"
   ]
  },
  {
   "cell_type": "markdown",
   "metadata": {},
   "source": [
    "__Solution 1:__"
   ]
  },
  {
   "cell_type": "code",
   "execution_count": 4,
   "metadata": {},
   "outputs": [
    {
     "name": "stdout",
     "output_type": "stream",
     "text": [
      " *\n",
      " * *\n",
      " * * *\n",
      " * * * *\n",
      " * * * * *\n",
      " * * * *\n",
      " * * *\n",
      " * *\n",
      " *\n"
     ]
    }
   ],
   "source": [
    "# Program to print a pattern using nested loop\n",
    "\n",
    "# here in the pattern,\n",
    "# no.of rows are equal to 7, and\n",
    "# no. of columns are equal to 5\n",
    "\n",
    "row = range(0,9)    # --storing no. of rows index in a row variable\n",
    "col = range(0,5)    # --storing no. of columns index in a col variable\n",
    "n = 0               # --variable to control the no. of asterik(*) in each row\n",
    "\n",
    "\n",
    "# -- Preparing for nested loop to print \"*\" by controlling the row, col indexes\n",
    "\n",
    "for i in row:            # --first for loop to control row index\n",
    "    s = \"\"               # --creating an empty string variable which will capture all the \"*\" row-wise\n",
    "    \n",
    "    if (i<5):            # --if condition to control or limit the count of \"*\" to be displayed in each line\n",
    "        n = n + 1        # --first four rows has increase in the count of \"*\" by 1 \n",
    "    else:\n",
    "        n = n - 1        # --last three rows has decrease in the count of \"*\" by 1\n",
    "    \n",
    "    for j in col:        # --second for loop to control col index\n",
    "        if (j<n):       # --if condition to control the \"*\" column-wise\n",
    "            s = s + \" *\"       # --storing the \"*\" as string in the s variable\n",
    "        \n",
    "    s = s.replace(\"\\n\", \"\")    # --replacing new/break line to blank\n",
    "    print(s)\n"
   ]
  },
  {
   "cell_type": "markdown",
   "metadata": {},
   "source": [
    " <hr>______________________________________________________________________________________________________________________________</hr>"
   ]
  },
  {
   "cell_type": "markdown",
   "metadata": {},
   "source": [
    "__Problem Statement 2:__\n",
    "Write a Python program to reverse a word after accepting the input from the user.\n",
    "\n",
    "__Sample Output:__\n",
    "\n",
    "* Input word: Ineuron\n",
    "* Output: noruenI"
   ]
  },
  {
   "cell_type": "markdown",
   "metadata": {},
   "source": [
    "__Solution 2:__"
   ]
  },
  {
   "cell_type": "code",
   "execution_count": 5,
   "metadata": {},
   "outputs": [
    {
     "name": "stdout",
     "output_type": "stream",
     "text": [
      "Please enter a word: Ineuron\n",
      "Displaying a given word in reverse order:  noruenI\n"
     ]
    }
   ],
   "source": [
    "# Program to reverse a word after accepting the input from the user\n",
    "\n",
    "\n",
    "inWord = input(\"Please enter a word: \")   # --variable to store a word from user\n",
    "\n",
    "print(\"Displaying a given word in reverse order: \", inWord[::-1])"
   ]
  },
  {
   "cell_type": "markdown",
   "metadata": {},
   "source": [
    " <hr>______________________________________________________________________________________________________________________________</hr>"
   ]
  }
 ],
 "metadata": {
  "kernelspec": {
   "display_name": "Python 3",
   "language": "python",
   "name": "python3"
  },
  "language_info": {
   "codemirror_mode": {
    "name": "ipython",
    "version": 3
   },
   "file_extension": ".py",
   "mimetype": "text/x-python",
   "name": "python",
   "nbconvert_exporter": "python",
   "pygments_lexer": "ipython3",
   "version": "3.7.3"
  }
 },
 "nbformat": 4,
 "nbformat_minor": 2
}
