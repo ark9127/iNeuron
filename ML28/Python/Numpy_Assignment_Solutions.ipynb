{
 "cells": [
  {
   "cell_type": "markdown",
   "metadata": {},
   "source": [
    "## <div align=\"center\"><b> This file contains the Problem Statement of Numpy Assignment along with their solutions using numpy library. </b></div>\n",
    "\n",
    "\\\n",
    "\\\n",
    "\\\n",
    "__File name__:  Numpy_Assignment_Solutions\n",
    "___\n",
    "__Author__: Arun Kumar Kushwaha\n",
    "___\n",
    "__Email__: ark9127@gmail.com\n",
    "___\n",
    "__Date created__:  25-Jul-2020\n",
    "___\n",
    "__Date last modified__: 26-Jul-2020\n",
    "___\n",
    "__Python Version__: 3.7\n",
    "___"
   ]
  },
  {
   "cell_type": "markdown",
   "metadata": {},
   "source": [
    " <hr>______________________________________________________________________________________________________________________________</hr>"
   ]
  },
  {
   "cell_type": "markdown",
   "metadata": {},
   "source": [
    "__Problem Statement 1:__\n",
    "Write a function so that the columns of the output matrix are powers of the input vector.\n",
    "\n",
    "The order of the powers is determined by the increasing boolean argument. Specifically, when increasing is False, the i-th output column is the input vector raised element-wise to the power of N - i - 1.\n",
    "\n",
    "\n",
    "HINT: Such a matrix with a geometric progression in each row is named for Alexandre-\n",
    "Theophile Vandermonde."
   ]
  },
  {
   "cell_type": "markdown",
   "metadata": {},
   "source": [
    "__Solution 1:__"
   ]
  },
  {
   "cell_type": "code",
   "execution_count": 77,
   "metadata": {},
   "outputs": [],
   "source": [
    "# importing numpy library \n",
    "\n",
    "import numpy as np\n",
    "\n",
    "# creating defination of power_matrix function\n",
    "\n",
    "def power_matrix(input_vector, col, increasing = True):\n",
    "    \n",
    "    row = input_vector.size\n",
    "        \n",
    "    if increasing:\n",
    "        return np.fromfunction(lambda _, j: np.vstack(input_vector)**j,(row,col), dtype = int)\n",
    "    else:\n",
    "        return np.fromfunction(lambda _, j: np.vstack(input_vector)**(col-j-1),(row,col), dtype = int)\n",
    "\n",
    "\n"
   ]
  },
  {
   "cell_type": "code",
   "execution_count": 94,
   "metadata": {},
   "outputs": [
    {
     "name": "stdout",
     "output_type": "stream",
     "text": [
      "Enter the list of integer: 1 2 3 4 5\n",
      "Enter the maximum integer power: 3\n",
      "Column size of output matrix is:  4\n",
      "\n",
      "Output Matrix in increasing order:\n",
      " [[  1   1   1   1]\n",
      " [  1   2   4   8]\n",
      " [  1   3   9  27]\n",
      " [  1   4  16  64]\n",
      " [  1   5  25 125]]\n",
      "\n",
      "Output Matrix in decreasing order:\n",
      " [[  1   1   1   1]\n",
      " [  8   4   2   1]\n",
      " [ 27   9   3   1]\n",
      " [ 64  16   4   1]\n",
      " [125  25   5   1]]\n"
     ]
    }
   ],
   "source": [
    "# initializing input vector and maximum power/no. of columns\n",
    "\n",
    "input_user = input(\"Enter the list of integer: \")\n",
    "input_vector = np.fromstring(input_user,sep = ' ',dtype = int)\n",
    "\n",
    "max_power = input(\"Enter the maximum integer power: \")\n",
    "col_size = int(max_power)+1\n",
    "\n",
    "print(\"Column size of output matrix is: \", col_size)\n",
    "\n",
    "\n",
    "# printing the output matrix having powers of the input vector\n",
    "\n",
    "output_inc = power_matrix(input_vector,col_size, increasing=True)\n",
    "output_dec = power_matrix(input_vector,col_size, increasing=False)\n",
    "\n",
    "print(\"\\nOutput Matrix in increasing order:\\n\", output_inc)\n",
    "print(\"\\nOutput Matrix in decreasing order:\\n \", output_dec, sep ='')\n"
   ]
  },
  {
   "cell_type": "markdown",
   "metadata": {},
   "source": [
    " <hr>______________________________________________________________________________________________________________________________</hr>"
   ]
  },
  {
   "cell_type": "markdown",
   "metadata": {},
   "source": [
    "__Problem Statement 2:__\n",
    "Given a sequence of n values x1, x2, ..., xn and a window size k>0, the k-th moving average of the given sequence is defined as follows:\n",
    "\n",
    "The moving average sequence has n-k+1 elements as shown below.\n",
    "\n",
    "The moving averages with k=4 of a ten-value sequence (n=10) is shown below\n",
    "\n",
    "i 1 2 3 4 5 6 7 8 9 10\n",
    "\n",
    "===== == == == == == == == == == ==\n",
    "\n",
    "Input 10 20 30 40 50 60 70 80 90 100\n",
    "\n",
    "y1 25 = (10+20+30+40)/4\n",
    "\n",
    "y2 35 = (20+30+40+50)/4\n",
    "\n",
    "y3 45 = (30+40+50+60)/4\n",
    "\n",
    "y4 55 = (40+50+60+70)/4\n",
    "\n",
    "y5 65 = (50+60+70+80)/4\n",
    "\n",
    "y6 75 = (60+70+80+90)/4\n",
    "\n",
    "y7 85 = (70+80+90+100)/4\n",
    "\n",
    "Thus, the moving average sequence has n-k+1=10-4+1=7 values."
   ]
  },
  {
   "cell_type": "markdown",
   "metadata": {},
   "source": [
    "__Query :__\n",
    "Write a function to find moving average in an array over a window:\n",
    "\n",
    "Test it over [3, 5, 7, 2, 8, 10, 11, 65, 72, 81, 99, 100, 150] and window of 3."
   ]
  },
  {
   "cell_type": "markdown",
   "metadata": {},
   "source": [
    "__Solution 2:__"
   ]
  },
  {
   "cell_type": "code",
   "execution_count": 18,
   "metadata": {},
   "outputs": [],
   "source": [
    "# importing numpy library \n",
    "\n",
    "import numpy as np\n",
    "\n",
    "# creating defination of moving_average function\n",
    "\n",
    "def moving_average(input_vector, w_size):\n",
    "    \n",
    "    row = input_vector.size        # storing the size of input vector in row variable\n",
    "    total_sum = []            # initializing a blank list\n",
    "    print(\"\\nGiven input vector and it's size is:\",\"\\n-------------------------------------\")\n",
    "    print(\"Input Vector: \", input_vector)\n",
    "    print(\"Input Vector Size: \", row)\n",
    "    print(\"\\nMoving Window Size: \", w_size)\n",
    "    \n",
    "    # if condition to make sure the size of moving window is greater than 0\n",
    "    if (w_size>0 and row>w_size):\n",
    "        for i in range(row - w_size + 1):\n",
    "            sum_1 = 0\n",
    "            for j in range(w_size):\n",
    "                sum_1 = sum_1 + input_vector[i+j]       # performing addition operation\n",
    "            sum_1 = sum_1/w_size                        # performing divison operation to calculate the average\n",
    "            total_sum.append(sum_1)                     # appending the average value in a blank list\n",
    "        return np.array(total_sum)                      # retuning the moving average array\n",
    "    elif (w_size<=0):\n",
    "        return (\"\\n<<Error>>: The window size should be greater than 0\")\n",
    "    else :\n",
    "        return (\"\\n<<Error>>: The window size should be less than the size of input vector\")\n",
    "        \n",
    "\n"
   ]
  },
  {
   "cell_type": "code",
   "execution_count": 19,
   "metadata": {},
   "outputs": [
    {
     "name": "stdout",
     "output_type": "stream",
     "text": [
      "Enter the list of integer: 1 2 3 4 5 6 7 8\n",
      "Enter the window size greater than 0 and less than the size of above input list: 3\n",
      "\n",
      "Given input vector and it's size is: \n",
      "-------------------------------------\n",
      "Input Vector:  [1 2 3 4 5 6 7 8]\n",
      "Input Vector Size:  8\n",
      "\n",
      "Moving Window Size:  3\n",
      "\n",
      "The output of the moving average array is:\n",
      " [2. 3. 4. 5. 6. 7.]\n"
     ]
    }
   ],
   "source": [
    "# initializing input vector and size of moving window using user input\n",
    "\n",
    "input_user = input(\"Enter the list of integer: \")\n",
    "input_vector = np.fromstring(input_user,sep = ' ',dtype = int)\n",
    "\n",
    "win_size = input(\"Enter the window size greater than 0 and less than the size of above input list: \")\n",
    "win_size = int(win_size)\n",
    "\n",
    "# printing the moving average array\n",
    "\n",
    "avg_array = moving_average(input_vector,win_size)\n",
    "\n",
    "\n",
    "print(\"\\nThe output of the moving average array is:\\n\", avg_array)\n",
    "\n"
   ]
  },
  {
   "cell_type": "code",
   "execution_count": 21,
   "metadata": {},
   "outputs": [
    {
     "name": "stdout",
     "output_type": "stream",
     "text": [
      "\n",
      "Given input vector and it's size is: \n",
      "-------------------------------------\n",
      "Input Vector:  [  3   5   7   2   8  10  11  65  72  81  99 100 150]\n",
      "Input Vector Size:  13\n",
      "\n",
      "Moving Window Size:  3\n",
      "\n",
      "The output of the moving average array is:\n",
      " [  5.           4.66666667   5.66666667   6.66666667   9.66666667\n",
      "  28.66666667  49.33333333  72.66666667  84.          93.33333333\n",
      " 116.33333333]\n"
     ]
    }
   ],
   "source": [
    "# initializing input vector and size of moving window\n",
    "\n",
    "input_vector_2 = np.array([3, 5, 7, 2, 8, 10, 11, 65, 72, 81, 99, 100, 150])\n",
    "win_size_2 = 3\n",
    "\n",
    "\n",
    "# printing the moving average array\n",
    "\n",
    "avg_array_2 = moving_average(input_vector_2,win_size_2)\n",
    "\n",
    "\n",
    "print(\"\\nThe output of the moving average array is:\\n\", avg_array_2)\n"
   ]
  },
  {
   "cell_type": "markdown",
   "metadata": {},
   "source": [
    " <hr>______________________________________________________________________________________________________________________________</hr>"
   ]
  }
 ],
 "metadata": {
  "kernelspec": {
   "display_name": "Python 3",
   "language": "python",
   "name": "python3"
  }
 },
 "nbformat": 4,
 "nbformat_minor": 2
}
