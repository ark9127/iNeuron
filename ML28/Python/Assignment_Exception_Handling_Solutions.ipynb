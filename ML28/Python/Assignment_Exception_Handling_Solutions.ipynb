{
 "cells": [
  {
   "cell_type": "markdown",
   "metadata": {},
   "source": [
    "## <div align=\"center\"><b> This file contains the Problem Statement of Assignment Exception Handling and List Comprehenion along with their solutions. </b></div>\n",
    "\n",
    "\\\n",
    "\\\n",
    "\\\n",
    "__File name__:  Assignment_Exception_Handling_Solutions\n",
    "___\n",
    "__Author__: Arun Kumar Kushwaha\n",
    "___\n",
    "__Email__: ark9127@gmail.com\n",
    "___\n",
    "__Date created__:  20-Apr-2020\n",
    "___\n",
    "__Date last modified__: 20-Apr-2020\n",
    "___\n",
    "__Python Version__: 3.7\n",
    "___"
   ]
  },
  {
   "cell_type": "markdown",
   "metadata": {},
   "source": [
    " <hr>______________________________________________________________________________________________________________________________</hr>"
   ]
  },
  {
   "cell_type": "markdown",
   "metadata": {},
   "source": [
    "__Problem Statement 1:__\n",
    "Write a function to compute 5/0 and use try/except to catch the exceptions."
   ]
  },
  {
   "cell_type": "markdown",
   "metadata": {},
   "source": [
    "__Solution 1:__"
   ]
  },
  {
   "cell_type": "code",
   "execution_count": 15,
   "metadata": {},
   "outputs": [
    {
     "name": "stdout",
     "output_type": "stream",
     "text": [
      " The disvion of 10/5 is 2.0\n",
      " Expected ERROR: division by zero. For the division of 5/0, You can't divide a number by zero!\n"
     ]
    }
   ],
   "source": [
    "# Function to compute 5/0 and use of try/except to catch exceptions\n",
    "\n",
    "\n",
    "# --defining the function name, argument and body\n",
    "\n",
    "def division(num,den):\n",
    "    try:                      # --try block to execute a set of operation. Here, it' division\n",
    "        result = num/den\n",
    "        print(\" The disvion of {0}/{1} is\".format(num,den), result )\n",
    "        \n",
    "    except ZeroDivisionError as e:     # --capturing the Zero Division Error in the except block\n",
    "        print(\" Expected ERROR: {1}. For the division of {0}/0, You can't divide a number by zero!\".format(num,e))\n",
    "\n",
    "\n",
    "        \n",
    "# --calling division function having denominator as non-zero number in the argument\n",
    "division(10,5)\n",
    "\n",
    "# --calling division function having denominator as zero in the argument\n",
    "division(5,0)\n"
   ]
  },
  {
   "cell_type": "markdown",
   "metadata": {},
   "source": [
    " <hr>______________________________________________________________________________________________________________________________</hr>"
   ]
  },
  {
   "cell_type": "markdown",
   "metadata": {},
   "source": [
    "__Problem Statement 2:__\n",
    "Implement a Python program to generate all sentences where subject is in [\"Americans\", \"Indians\"] and verb is in [\"Play\", \"watch\"] and the object is in [\"Baseball\",\"cricket\"].\n",
    "\n",
    "__Hint:__ Subject,Verb and Object should be declared in the program as shown below:\n",
    "\n",
    "   subjects=[\"Americans \",\"Indians\"]  \n",
    "   verbs=[\"play\",\"watch\"]  \n",
    "   objects=[\"Baseball\",\"Cricket\"]  \n",
    "   \n",
    "   __Output should come as below:__  \n",
    "\n",
    "   Americans play Baseball.  \n",
    "   Americans play Cricket.  \n",
    "   Americans watch Baseball.  \n",
    "   Americans watch Cricket.  \n",
    "   Indians play Baseball.  \n",
    "   Indians play Cricket.  \n",
    "   Indians watch Baseball.  \n",
    "   Indians watch Cricket."
   ]
  },
  {
   "cell_type": "markdown",
   "metadata": {},
   "source": [
    "__Solution 2:__"
   ]
  },
  {
   "cell_type": "code",
   "execution_count": 21,
   "metadata": {},
   "outputs": [
    {
     "name": "stdout",
     "output_type": "stream",
     "text": [
      "Americans play Baseball\n",
      "Americans play Cricket\n",
      "Americans watch Baseball\n",
      "Americans watch Cricket\n",
      "Indians play Baseball\n",
      "Indians play Cricket\n",
      "Indians watch Baseball\n",
      "Indians watch Cricket\n"
     ]
    }
   ],
   "source": [
    "# Program to print the different sets of sentences as per above given combination\n",
    "\n",
    "subjects = [\"Americans\", \"Indians\"]\n",
    "verbs = [\"play\", \"watch\"]\n",
    "objects = [\"Baseball\", \"Cricket\"]\n",
    "\n",
    "\n",
    "# --using list comprehension to store all sets of sentences as a list\n",
    "all_sentences = [(sub +\" \"+ verb +\" \"+ obj) for sub in subjects for verb in verbs for obj in objects]\n",
    "\n",
    "# --iterating through the list and printing each element in each line\n",
    "for i in all_sentences:\n",
    "    print(i)\n",
    "    "
   ]
  },
  {
   "cell_type": "markdown",
   "metadata": {},
   "source": [
    " <hr>______________________________________________________________________________________________________________________________</hr>"
   ]
  }
 ],
 "metadata": {
  "kernelspec": {
   "display_name": "Python 3",
   "language": "python",
   "name": "python3"
  },
  "language_info": {
   "codemirror_mode": {
    "name": "ipython",
    "version": 3
   },
   "file_extension": ".py",
   "mimetype": "text/x-python",
   "name": "python",
   "nbconvert_exporter": "python",
   "pygments_lexer": "ipython3",
   "version": "3.7.3"
  }
 },
 "nbformat": 4,
 "nbformat_minor": 2
}
