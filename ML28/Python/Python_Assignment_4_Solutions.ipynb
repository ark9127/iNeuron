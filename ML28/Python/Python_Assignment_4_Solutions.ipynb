{
 "cells": [
  {
   "cell_type": "markdown",
   "metadata": {},
   "source": [
    "## <div align=\"center\"><b> This file contains the Problem Statement of Python Assignment 4 along with their solutions. </b></div>\n",
    "\n",
    "\\\n",
    "\\\n",
    "\\\n",
    "__File name__:  Python_Assignment_4_Solutions\n",
    "___\n",
    "__Author__: Arun Kumar Kushwaha\n",
    "___\n",
    "__Email__: ark9127@gmail.com\n",
    "___\n",
    "__Date created__:  20-Apr-2020\n",
    "___\n",
    "__Date last modified__: 20-Apr-2020\n",
    "___\n",
    "__Python Version__: 3.7\n",
    "___"
   ]
  },
  {
   "cell_type": "markdown",
   "metadata": {},
   "source": [
    " <hr>______________________________________________________________________________________________________________________________</hr>"
   ]
  },
  {
   "cell_type": "markdown",
   "metadata": {},
   "source": [
    "__Problem Statement 1.1:__\n",
    "Write a Python Program(with class concepts) to find the area of the triangle using the below\n",
    "formula.\n",
    "\n",
    "area = (s*(s-a)*(s-b)*(s-c)) ** 0.5\n",
    "\n",
    "Function to take the length of the sides of triangle from user should be defined in the parent\n",
    "class and function to calculate the area should be defined in subclass."
   ]
  },
  {
   "cell_type": "markdown",
   "metadata": {},
   "source": [
    "__Solution 1.1:__"
   ]
  },
  {
   "cell_type": "code",
   "execution_count": 26,
   "metadata": {},
   "outputs": [
    {
     "name": "stdout",
     "output_type": "stream",
     "text": [
      "Enter the value of a = 3\n",
      "Enter the value of b = 4\n",
      "Enter the value of c = 5\n",
      "The area of the triangle is : 6.0\n"
     ]
    }
   ],
   "source": [
    "# Class to find the area of the triangle using the below formula\n",
    "# area = (s(s-a)(s-b)(s-c)) * 0.5\n",
    "\n",
    "\n",
    "# defining class and methods\n",
    "\n",
    "class Triangle:\n",
    " \n",
    "    def __init__(self,a,b,c):  # --adding length of 3 side of triangle as attribute and initializing object for each attribute\n",
    "        self.a = float(a)\n",
    "        self.b = float(b)\n",
    "        self.c = float(c)\n",
    " \n",
    "    def area(self):           # -- function to calculate the area of the traingle using the length of 3 sides\n",
    "        s=(self.a + self.b + self.c)/2\n",
    "        return((s*(s-self.a)*(s-self.b)*(s-self.c))**0.5)\n",
    "\n",
    "    \n",
    "# --capturing the lentgh of 3 side of the triangle by user input\n",
    " \n",
    "a=input(\"Enter the value of a = \")\n",
    "b=input(\"Enter the value of b = \")\n",
    "c=input(\"Enter the value of c = \")\n",
    "\n",
    "\n",
    "t = Triangle(a, b, c)                 # --creating an instance of the Triangle class, bound to the variable t\n",
    "\n",
    "\n",
    "print(\"The area of the triangle is : {}\".format(t.area()))\n"
   ]
  },
  {
   "cell_type": "markdown",
   "metadata": {},
   "source": [
    " <hr>______________________________________________________________________________________________________________________________</hr>"
   ]
  },
  {
   "cell_type": "markdown",
   "metadata": {},
   "source": [
    "__Problem Statement 1.2:__\n",
    "Write a function filter_long_words() that takes a list of words and an integer n and returns\n",
    "the list of words that are longer than n."
   ]
  },
  {
   "cell_type": "markdown",
   "metadata": {},
   "source": [
    "__Solution 1.2:__"
   ]
  },
  {
   "cell_type": "code",
   "execution_count": 33,
   "metadata": {},
   "outputs": [
    {
     "name": "stdout",
     "output_type": "stream",
     "text": [
      "(1) Below is the list of words which has lenght greater than  10 :\n",
      "\n",
      "-> ['The Shawshank Redemption', 'Fast and Furious', 'Justice Leauge', 'The Lord of the Rings: The Return of the King', 'Once upon a Time in Hollywood']\n",
      "\n",
      "\n",
      "(2) Below is the list of words which has lenght greater than 5 :\n",
      "\n",
      "-> ['function', 'longer']\n"
     ]
    }
   ],
   "source": [
    "# function to return the lists of words that are longer than n\n",
    "\n",
    "\n",
    "# --defining the function name, arguments and body\n",
    "\n",
    "def filter_long_words(list_of_words, n):\n",
    "    result = []\n",
    "    for i in list_of_words:\n",
    "        if len(i)>n:            # --condition which filters the words that are longer than n\n",
    "            result.append(i)\n",
    "            \n",
    "    return result\n",
    "\n",
    "# --creating 2 different sets of test data\n",
    "test_data_1 = [\"Joker\", \"The Shawshank Redemption\",\"I\", \"Fast and Furious\", \" Kill Bill\", \"Justice Leauge\", \"The Lord of the Rings: The Return of the King\", \"Avengers\", \"Parasyte\", \"Once upon a Time in Hollywood\",]\n",
    "test_data_2 = [\"This\", \"is\", \"a\" ,\"function\", \"to\", \"print\", \"lists\", \"of\", \"words\", \"longer\", \"than\", \"n\"]\n",
    "\n",
    "# --setting the minimium length of the word for both set of data\n",
    "size_1 = 10\n",
    "size_2 = 5\n",
    "\n",
    "# --storing the list of filtered words in the respective list variable\n",
    "long_words_1 = filter_long_words(test_data_1,size_1)\n",
    "long_words_2 = filter_long_words(test_data_2,size_2)\n",
    "\n",
    "\n",
    "print(\"(1) Below is the list of words which has lenght greater than \",size_1, \":\\n\\n->\", long_words_1)\n",
    "\n",
    "print(\"\\n\\n(2) Below is the list of words which has lenght greater than\",size_2, \":\\n\\n->\", long_words_2)\n"
   ]
  },
  {
   "cell_type": "markdown",
   "metadata": {},
   "source": [
    "__Comment__:  Testing with two different set of test data:\n",
    "* test data 1 has single or combination of multiple words in each index\n",
    "* test data 2 has single word in each index"
   ]
  },
  {
   "cell_type": "markdown",
   "metadata": {},
   "source": [
    " <hr>______________________________________________________________________________________________________________________________</hr>"
   ]
  },
  {
   "cell_type": "markdown",
   "metadata": {},
   "source": [
    "__Problem Statement 2.1:__\n",
    "Write a Python program using function concept that maps list of words into a list of integers\n",
    "representing the lengths of the corresponding words.\n",
    "\n",
    "Hint: If a list [ ab,cde,erty] is passed on to the python function output should come as [2,3,4]\n",
    "\n",
    "Here 2,3 and 4 are the lengths of the words in the list."
   ]
  },
  {
   "cell_type": "markdown",
   "metadata": {},
   "source": [
    "__Solution 2.1:__"
   ]
  },
  {
   "cell_type": "code",
   "execution_count": 39,
   "metadata": {},
   "outputs": [
    {
     "name": "stdout",
     "output_type": "stream",
     "text": [
      ">Displaying below the list of words into a list of integers representing the lengths of the corresponding words:\n",
      " [7, 13, 14, 8, 12, 13, 19]\n"
     ]
    }
   ],
   "source": [
    "# function to print the list of words into a list of integers representing the lengths of the corresponding words\n",
    "\n",
    "\n",
    "# --defining the functin name, arguments and body\n",
    "\n",
    "def map_word_length(words): \n",
    "    \n",
    "    return list(map(len,words))\n",
    "\n",
    "# --test data\n",
    "word_list = [\"Mapping\", \"list of words\", \"into a list of\", \"integers\", \"representing\", \"the lenght of\", \"corresponding words\"]\n",
    "\n",
    "print(\">Displaying below the list of words into a list of integers representing the lengths of the corresponding words:\\n {}\".format(map_word_length(word_list)))\n"
   ]
  },
  {
   "cell_type": "markdown",
   "metadata": {},
   "source": [
    " <hr>______________________________________________________________________________________________________________________________</hr>"
   ]
  },
  {
   "cell_type": "markdown",
   "metadata": {},
   "source": [
    "__Problem Statement 2.2:__\n",
    "Write a Python function which takes a character (i.e. a string of length 1) and returns True if\n",
    "it is a vowel, False otherwise."
   ]
  },
  {
   "cell_type": "markdown",
   "metadata": {},
   "source": [
    "__Solution 2.2:__"
   ]
  },
  {
   "cell_type": "code",
   "execution_count": 40,
   "metadata": {},
   "outputs": [
    {
     "name": "stdout",
     "output_type": "stream",
     "text": [
      "Is 'd' a vowel?: False\n",
      "Is '1' a vowel?: False\n",
      "Is 'aa' a vowel?: False\n",
      "Is 'u' a vowel?: True\n"
     ]
    }
   ],
   "source": [
    "# function to return True if the i/p character is a vowel or ele False\n",
    "\n",
    "def is_vowel(char):\n",
    "    vowels = [\"a\", \"e\", \"i\", \"o\", \"u\"]     # --list to store all the vowels\n",
    "    if char not in vowels:                 # list of vowel are compared with the character argument\n",
    "        return False\n",
    "    return True\n",
    "\n",
    "\n",
    "print(\"Is 'd' a vowel?:\",is_vowel('d'))\n",
    "print(\"Is '1' a vowel?:\",is_vowel(1))\n",
    "print(\"Is 'aa' a vowel?:\",is_vowel('aa'))\n",
    "print(\"Is 'u' a vowel?:\",is_vowel('u'))"
   ]
  },
  {
   "cell_type": "markdown",
   "metadata": {},
   "source": [
    " <hr>______________________________________________________________________________________________________________________________</hr>"
   ]
  }
 ],
 "metadata": {
  "kernelspec": {
   "display_name": "Python 3",
   "language": "python",
   "name": "python3"
  },
  "language_info": {
   "codemirror_mode": {
    "name": "ipython",
    "version": 3
   },
   "file_extension": ".py",
   "mimetype": "text/x-python",
   "name": "python",
   "nbconvert_exporter": "python",
   "pygments_lexer": "ipython3",
   "version": "3.7.3"
  }
 },
 "nbformat": 4,
 "nbformat_minor": 2
}
