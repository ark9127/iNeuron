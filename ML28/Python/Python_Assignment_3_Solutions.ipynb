{
 "cells": [
  {
   "cell_type": "markdown",
   "metadata": {},
   "source": [
    "<div align=\"center\"><b> This file contains the Problem Statement of Python Assignment 3 along with their solutions. </b></div>\n",
    "\n",
    "\\\n",
    "\\\n",
    "\\\n",
    "__File name__:  Python_Assignment_3_Solutions \n",
    "___\n",
    "__Author__: Arun Kumar Kushwaha\n",
    "___\n",
    "__Email__: ark9127@gmail.com\n",
    "___\n",
    "__Date created__:  13-Apr-2020\n",
    "___\n",
    "__Date last modified__: 20-Apr-2020\n",
    "___\n",
    "__Python Version__: 3.7\n",
    "___"
   ]
  },
  {
   "cell_type": "markdown",
   "metadata": {},
   "source": [
    " <hr>______________________________________________________________________________________________________________________________</hr>"
   ]
  },
  {
   "cell_type": "markdown",
   "metadata": {},
   "source": [
    "__Problem Statement 1.1:__\n",
    "Write a Python Program to implement your own myreduce() function which works exactly like Python's built-in function reduce()"
   ]
  },
  {
   "cell_type": "markdown",
   "metadata": {},
   "source": [
    "__Solution 1.1:__"
   ]
  },
  {
   "cell_type": "code",
   "execution_count": 70,
   "metadata": {},
   "outputs": [],
   "source": [
    "# Program to implemet user defined reduce function\n",
    "\n",
    "# --myreduce-> user defined reduce function name\n",
    "# --funcname-> a function type parameter/argument is defined\n",
    "# --this functin operates on 2 elements at a time in a list\n",
    "# --for e.g. x = i0 * i1, x = x* i2,.... where \"*\" is the operation done between two elements\n",
    "# --user_list-> any sequence or list. it should be a homogeneous list\n",
    "\n",
    "\n",
    "def myreduce(func_name,user_list):\n",
    "    \n",
    "    result = user_list[0]            # --Storing first element from the list in the result\n",
    "    for i in user_list[1:]:          # --for loop to iterate through all the elements skipping first element\n",
    "                \n",
    "        result = func_name(result,i) # --to perform a set of operation on result and i as per the Function entered in reduce function\n",
    "        \n",
    "    return result    \n",
    "\n",
    "\n",
    "# --defined function to add two variables given as paramters\n",
    "def sum(x,y):\n",
    "    return x+y\n",
    "\n",
    "# --defined function to find the maximum no. out of two variables given as paramters\n",
    "def max(x,y):\n",
    "    if x>y:\n",
    "        return x\n",
    "    else:\n",
    "        return y"
   ]
  },
  {
   "cell_type": "code",
   "execution_count": 71,
   "metadata": {},
   "outputs": [
    {
     "name": "stdout",
     "output_type": "stream",
     "text": [
      "Total sum of the given list is: 60.0\n",
      "Maximum no in the given list is: 45\n"
     ]
    }
   ],
   "source": [
    "# -- program to test user defined reduce function\n",
    "\n",
    "# --any random list for input\n",
    "l1 = [2,3.5,45,9.5]\n",
    "\n",
    "# --performing a sum operation on a list using user defined reduce function\n",
    "my_sum = myreduce(sum,l1)\n",
    "\n",
    "# --performing a maximum operation on a list using user defined reduce function\n",
    "my_max = myreduce(max,l1)\n",
    "\n",
    "\n",
    "print(\"Total sum of the given list is:\", my_sum)\n",
    "print(\"Maximum no in the given list is:\",my_max)"
   ]
  },
  {
   "cell_type": "markdown",
   "metadata": {},
   "source": [
    "__Comment:__ \n",
    "1. fisrt cell contains the definition of myreduce function and other test functions which are going to be called in this user defined myreduce function\n",
    "2. second cell contains the test data and the calling of user defined myreduce function to find below test results:\n",
    " * Total sum in a given list\n",
    " * Maximum number in a given list"
   ]
  },
  {
   "cell_type": "markdown",
   "metadata": {},
   "source": [
    "\n",
    "\n",
    "<hr>______________________________________________________________________________________________________________________________</hr>"
   ]
  },
  {
   "cell_type": "markdown",
   "metadata": {},
   "source": [
    "__Problem Statement 1.2:__\n",
    "Write a Python program to implement your own myfilter() function which works exactly like Python's built-in function filter()"
   ]
  },
  {
   "cell_type": "markdown",
   "metadata": {},
   "source": [
    "__Solution 1.2:__"
   ]
  },
  {
   "cell_type": "code",
   "execution_count": 72,
   "metadata": {},
   "outputs": [],
   "source": [
    "# Program to implemet user defined filter function\n",
    "\n",
    "# --myfilter-> user defined filter function name\n",
    "# --funcname-> a function type parameter/argument is defined\n",
    "# --this functions operates on 1 element at a time in a list\n",
    "# --elements are picked/filtered based on the operation performed on the elements\n",
    "# --user_list-> any sequence or list. it should be a homogeneous list\n",
    "\n",
    "\n",
    "def myfilter(func_name,user_list):\n",
    "    \n",
    "    result = []                      # --creating a blank list\n",
    "    for i in user_list:              # --for loop to iterate through all the elements\n",
    "        if func_name(i):             # --if condition to find out the elemets which satisfy the function\n",
    "            result.append(i) # --to perform a set of operation on result and i as per the Function entered in reduce function\n",
    "        \n",
    "    return result    \n",
    "\n",
    "\n",
    "# --defined function to remove element of type string from the list\n",
    "def is_num(x):\n",
    "    if type(x) == str:\n",
    "        return False\n",
    "    return True\n",
    "    \n",
    "    \n",
    "# --defined function to identify if the number is prime\n",
    "def is_prime(x):\n",
    "    if (x > 2) & (x%2 == 0):\n",
    "        return False\n",
    "    for i in range(3, int(x/2), 2):\n",
    "        if (x % i == 0):\n",
    "            return False\n",
    "    return True"
   ]
  },
  {
   "cell_type": "code",
   "execution_count": 73,
   "metadata": {},
   "outputs": [
    {
     "name": "stdout",
     "output_type": "stream",
     "text": [
      "Please find the numbers and boolean in the given list: [2, 3.5, 45, 9.5, True, False, 100]\n",
      "Please find the prime numbers in the given list: [2, 5, 61, 89]\n"
     ]
    }
   ],
   "source": [
    "# -- program to test user defined reduce function\n",
    "\n",
    "# --any random list consist of int, float, string and boolean\n",
    "l1 = [2,3.5,45,\"arun\",9.5,\"kumar\",True, False, \"kushwaha\", 100]\n",
    "\n",
    "# any random list to test for prime umbers\n",
    "l2 = [2,5,12,45,61,89,99,10]\n",
    "\n",
    "# --performing a sum operation on a list using user defined reduce function\n",
    "list_without_string = myfilter(is_num,l1)\n",
    "\n",
    "# --performing a maximum operation on a list using user defined reduce function\n",
    "list_prime = myfilter(is_prime,l2)\n",
    "\n",
    "\n",
    "print(\"Please find the numbers and boolean in the given list:\", list_without_string)\n",
    "print(\"Please find the prime numbers in the given list:\",list_prime)"
   ]
  },
  {
   "cell_type": "markdown",
   "metadata": {},
   "source": [
    "__Comment:__ \n",
    "1. fisrt cell contains the definition of myfilter function and other test functions which are going to be called in this user defined myfilter function\n",
    "2. second cell contains the test data and the calling of user defined myfilter function to find below test results:\n",
    " * remove string from the list\n",
    " * find the prime number"
   ]
  },
  {
   "cell_type": "markdown",
   "metadata": {},
   "source": [
    " <hr>______________________________________________________________________________________________________________________________</hr>"
   ]
  },
  {
   "cell_type": "markdown",
   "metadata": {},
   "source": [
    "__Problem Statement 2:__\n",
    "Implement List comprehensions to produce the following lists.\n",
    "\n",
    "Write List comprehensions to produce the following Lists:\n",
    "\n",
    "\n",
    "['A', 'C', 'A', 'D', 'G', 'I', ’L’, ‘ D’]\n",
    "\n",
    "['x', 'xx', 'xxx', 'xxxx', 'y', 'yy', 'yyy', 'yyyy', 'z', 'zz', 'zzz', 'zzzz']\n",
    "\n",
    "['x', 'y', 'z', 'xx', 'yy', 'zz', 'xxx', 'yyy', 'zzz', 'xxxx', 'yyyy', 'zzzz']\n",
    "\n",
    "[[2], [3], [4], [3], [4], [5], [4], [5], [6]]\n",
    "\n",
    "[[2, 3, 4, 5], [3, 4, 5, 6],[4, 5, 6, 7], [5, 6, 7, 8]]\n",
    "\n",
    "[(1, 1), (2, 1), (3, 1), (1, 2), (2, 2), (3, 2), (1, 3), (2, 3), (3, 3)]"
   ]
  },
  {
   "cell_type": "markdown",
   "metadata": {},
   "source": [
    "__Solution 2:__"
   ]
  },
  {
   "cell_type": "code",
   "execution_count": 74,
   "metadata": {},
   "outputs": [
    {
     "name": "stdout",
     "output_type": "stream",
     "text": [
      "Below is the output of First List Comprehension:\n",
      "['A', 'C', 'A', 'D', 'G', 'I', 'L', 'D']\n",
      "\n",
      "Below is the output of Second List Comprehension:\n",
      "['x', 'xx', 'xxx', 'xxxx', 'y', 'yy', 'yyy', 'yyyy', 'z', 'zz', 'zzz', 'zzzz']\n",
      "\n",
      "Below is the output of Third List Comprehension:\n",
      "['x', 'y', 'z', 'xx', 'yy', 'zz', 'xxx', 'yyy', 'zzz', 'xxxx', 'yyyy', 'zzzz']\n",
      "\n",
      "Below is the output of Fourth List Comprehension:\n",
      "[[2], [3], [4], [3], [4], [5], [4], [5], [6]]\n",
      "\n",
      "Below is the output of Fifth List Comprehension:\n",
      "[[2, 3, 4, 5], [3, 4, 5, 6], [4, 5, 6, 7], [5, 6, 7, 8]]\n",
      "\n",
      "Below is the output of Sixth List Comprehension:\n",
      "[(1, 1), (2, 1), (3, 1), (1, 2), (2, 2), (3, 2), (1, 3), (2, 3), (3, 3)]\n"
     ]
    }
   ],
   "source": [
    "# Program to print above following list using list comprehension\n",
    "\n",
    "\n",
    "# --List 1, using single for loop in list comprehension\n",
    "lc_1 = [char for char in 'ACADGILD']\n",
    "\n",
    "print(\"Below is the output of First List Comprehension:\")\n",
    "print(lc_1)\n",
    "\n",
    "\n",
    "# --list 2, using nested for loop in list comprehension\n",
    "lc_2 = [ i * j for i in 'xyz' for j in range(1,5)]\n",
    "\n",
    "print(\"\\nBelow is the output of Second List Comprehension:\")\n",
    "print(lc_2)\n",
    "\n",
    "\n",
    "# --list 3, using nested for loop in list comprehension\n",
    "lc_3 = [i * j for i in range(1,5) for j in 'xyz' ]\n",
    "\n",
    "print(\"\\nBelow is the output of Third List Comprehension:\")\n",
    "print(lc_3)\n",
    "\n",
    "\n",
    "# --list 4, using nested for loop in list comprehension, using [] -> to append elements as a list\n",
    "# --inner loop(j) to append element as a list\n",
    "lc_4 = [[i + j] for i in range(3) for j in range(2,5)]\n",
    "\n",
    "print(\"\\nBelow is the output of Fourth List Comprehension:\")\n",
    "print(lc_4)\n",
    "\n",
    "\n",
    "# --list 5, using nested for loop in list comprehension, using [] -> to append elements in a list \n",
    "# --inner loop(j) to append element in a list\n",
    "# --outer loop(i) to append list of element in a list i.e. a nested list\n",
    "lc_5 = [[i + j for i in range(4)] for j in range(2,6)]\n",
    "\n",
    "print(\"\\nBelow is the output of Fifth List Comprehension:\")\n",
    "print(lc_5)\n",
    "\n",
    "\n",
    "# --list 6, using nested for loop in list comprehension, using (j,i) -> to append each element as tupple\n",
    "lc_6 = [ (j,i) for i in range(1,4) for j in range(1,4)]\n",
    "\n",
    "print(\"\\nBelow is the output of Sixth List Comprehension:\")\n",
    "print(lc_6)\n"
   ]
  },
  {
   "cell_type": "markdown",
   "metadata": {},
   "source": [
    "__Comment:__ Printed List 1 was not visible in the PDF. While copying and pasting the whole problem statement in notebook, it became visible. Therefore, i attempted this list and displayed it."
   ]
  },
  {
   "cell_type": "markdown",
   "metadata": {},
   "source": [
    " <hr>______________________________________________________________________________________________________________________________</hr>"
   ]
  }
 ],
 "metadata": {
  "kernelspec": {
   "display_name": "Python 3",
   "language": "python",
   "name": "python3"
  },
  "language_info": {
   "codemirror_mode": {
    "name": "ipython",
    "version": 3
   },
   "file_extension": ".py",
   "mimetype": "text/x-python",
   "name": "python",
   "nbconvert_exporter": "python",
   "pygments_lexer": "ipython3",
   "version": "3.7.3"
  }
 },
 "nbformat": 4,
 "nbformat_minor": 2
}
